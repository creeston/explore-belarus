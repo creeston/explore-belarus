{
 "cells": [
  {
   "cell_type": "code",
   "execution_count": 43,
   "metadata": {},
   "outputs": [],
   "source": [
    "import requests\n",
    "\n",
    "from bs4 import BeautifulSoup"
   ]
  },
  {
   "cell_type": "code",
   "execution_count": 44,
   "metadata": {},
   "outputs": [],
   "source": [
    "def get_list_of_places():\n",
    "    # all_places_url = \"https://globustut.by/area_pl_all.htm\"\n",
    "    # result = requests.get(all_places_url)\n",
    "    # content = result.content\n",
    "    # content = content.decode('Windows-1251')\n",
    "\n",
    "    # Read already exported HTML instead\n",
    "    with open('Вся Беларусь.html', 'r', encoding='Windows-1251') as f:\n",
    "        content = f.read()\n",
    "\n",
    "    soup = BeautifulSoup(content, 'html.parser')\n",
    "    data_table = soup.find('html').find_all('table')[2]\n",
    "    rows = list(data_table.find_all('tr'))[4:-1]\n",
    "\n",
    "    places = []\n",
    "    for row in rows:\n",
    "        columns = list(row.find_all('td'))\n",
    "        COLS_PER_PLACE = 4\n",
    "        PLACES_PER_ROW = 4\n",
    "\n",
    "        for place_id in range(PLACES_PER_ROW):\n",
    "            place_cols = list(columns[place_id * COLS_PER_PLACE: place_id * COLS_PER_PLACE + COLS_PER_PLACE])\n",
    "            place_title = place_cols[0]\n",
    "            photo_count = place_cols[1].text\n",
    "            place_rating = place_cols[2].find('img')['alt']\n",
    "            place_url = place_title.find('a')['href'].replace('index.htm', '')\n",
    "            name = place_title.text.strip()\n",
    "            places.append({ \"name\": name, \"url\": place_url, \"rating\": place_rating, \"photo_count\": photo_count})\n",
    "    return places"
   ]
  },
  {
   "cell_type": "code",
   "execution_count": 39,
   "metadata": {},
   "outputs": [],
   "source": [
    "def get_place_info(place_url):\n",
    "    result = requests.get(place_url + \"index.htm\")\n",
    "    place_content = result.content\n",
    "    place_content = place_content.decode('Windows-1251')\n",
    "\n",
    "    soup = BeautifulSoup(place_content, 'html5lib')\n",
    "    table = soup.body.find('table')\n",
    "\n",
    "    coords_link = next((el for el in table.find_all('a') if \"alt\" in el.attrs and \"(на «подвижной» карте «Глобуса Беларуси»)\" in el['alt']), None)\n",
    "    if coords_link:\n",
    "        coords_text = coords_link.text\n",
    "        coords = [c.strip() for c in coords_text.split(',')]\n",
    "    else:\n",
    "        coords = None\n",
    "\n",
    "    place_name = table.find('font', {'class': 'hPage'}).text\n",
    "    location_div = min([div for div in table.find_all('div') if place_name in div.text], key=lambda d: len(d.text))\n",
    "    location_text = location_div.text.strip()[len(place_name):]\n",
    "\n",
    "    sights = []\n",
    "    sights_divs = [div for div in soup.body.find_all('div') if 'id' in div.attrs and div['id'] != 'GATag_WholeObj_index' and 'GATag_WholeObj' in div['id']]\n",
    "    for sight_div in sights_divs:\n",
    "\n",
    "        sight_id = sight_div['id'].replace('GATag_WholeObj_', '')\n",
    "\n",
    "        main_image = next(image for image in sight_div.find_all('span') if 'id' in image.attrs and image['id'] == f\"GATag_MainImgs_{sight_id}\")\n",
    "        image_element = main_image.find('img')\n",
    "        if image_element is not None:\n",
    "            src = image_element['src']\n",
    "            if not src.startswith('http'):\n",
    "                image_src = place_url + image_element['src']\n",
    "            else:\n",
    "                image_src = src\n",
    "        else:\n",
    "            image_src = None\n",
    "\n",
    "        sight_info_table = sight_div.find('table', recursive=False)\n",
    "        sight_name_element = sight_info_table.find('font', { \"class\": \"subhPage\"})\n",
    "        if not sight_name_element:\n",
    "            sight_name_element = sight_info_table.find('font', { \"class\": \"subhPageStrach\"})\n",
    "        sight_name = sight_name_element.text.strip()\n",
    "\n",
    "        title_table, *info_tables = sight_info_table.find_all('table')\n",
    "\n",
    "        props = []\n",
    "        for info_table in info_tables:\n",
    "            lines = info_table.text.split('\\n')\n",
    "            for line in lines:\n",
    "                line = line.strip().replace('\\xa0', ' ')\n",
    "                if ':' not in line:\n",
    "                    continue\n",
    "                prop, name = line.split(':')\n",
    "                props.append((prop.strip(), name.strip()))\n",
    "\n",
    "        sights.append({ \"name\": sight_name, \"image\": image_src, \"props\": props })\n",
    "    return {\n",
    "        \"coords\": coords,\n",
    "        \"location\": location_text,\n",
    "        \"sights\": sights,\n",
    "        \"name\": place_name\n",
    "    }"
   ]
  },
  {
   "cell_type": "code",
   "execution_count": 2,
   "metadata": {},
   "outputs": [],
   "source": [
    "with open('places.json', 'r', encoding='utf-8') as f:\n",
    "    import json\n",
    "    places = json.load(f)"
   ]
  },
  {
   "cell_type": "code",
   "execution_count": 40,
   "metadata": {},
   "outputs": [
    {
     "name": "stdout",
     "output_type": "stream",
     "text": [
      "https://globustut.by/ilya/\n",
      "https://globustut.by/star_sverz/\n",
      "https://globustut.by/staroboris/\n",
      "https://globustut.by/strune/\n",
      "https://globustut.by/volchkovic/\n",
      "https://globustut.by/koptevka/\n",
      "https://globustut.by/gajna/\n",
      "https://globustut.by/gonchary_lid/\n",
      "https://globustut.by/gorodische_min/\n",
      "https://globustut.by/lebedevo/\n",
      "https://globustut.by/yazyl/\n",
      "https://globustut.by/dovbuchki/\n",
      "https://globustut.by/dostoevo/\n"
     ]
    }
   ],
   "source": [
    "for place in places:\n",
    "    if 'info' in place:\n",
    "        continue\n",
    "    print(place['url'])\n",
    "    try:\n",
    "        place_info = get_place_info(place['url'])\n",
    "    except Exception as e:\n",
    "        print(e)\n",
    "        continue\n",
    "    place['info'] = place_info"
   ]
  },
  {
   "cell_type": "code",
   "execution_count": 42,
   "metadata": {},
   "outputs": [],
   "source": [
    "with open('places.json', 'w', encoding='utf-8') as f:\n",
    "    import json\n",
    "    json.dump(places, f, indent=4, ensure_ascii=False)"
   ]
  }
 ],
 "metadata": {
  "kernelspec": {
   "display_name": "Python 3",
   "language": "python",
   "name": "python3"
  },
  "language_info": {
   "codemirror_mode": {
    "name": "ipython",
    "version": 3
   },
   "file_extension": ".py",
   "mimetype": "text/x-python",
   "name": "python",
   "nbconvert_exporter": "python",
   "pygments_lexer": "ipython3",
   "version": "3.7.4"
  },
  "orig_nbformat": 4
 },
 "nbformat": 4,
 "nbformat_minor": 2
}
