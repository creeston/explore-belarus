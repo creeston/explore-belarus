{
 "cells": [
  {
   "cell_type": "code",
   "execution_count": 1,
   "metadata": {},
   "outputs": [
    {
     "data": {
      "text/plain": [
       "268"
      ]
     },
     "execution_count": 1,
     "metadata": {},
     "output_type": "execute_result"
    }
   ],
   "source": [
    "from tinydb import TinyDB\n",
    "db = TinyDB(\"../../gotobelarus.json\")\n",
    "len(db.all())"
   ]
  },
  {
   "cell_type": "code",
   "execution_count": 2,
   "metadata": {},
   "outputs": [
    {
     "data": {
      "text/plain": [
       "{'name': 'Мосар',\n",
       " 'description': '«Беларусский Версаль»: костел святой Анны (1792) и парк.',\n",
       " 'coords': [55.2269, 27.4655],\n",
       " 'links': [{'href': 'https://34travel.me/gotobelarus/post/kia-hlybokaje',\n",
       "   'text': 'Места Дроздовича и «беларусский Версаль»: Едем в Глубокое и окрестности'},\n",
       "  {'href': 'https://34travel.me/gotobelarus/post/eshche-34-dostoprimechatelnosti-belarusi',\n",
       "   'text': 'Еще 34 достопримечательности Беларуси  '}],\n",
       " 'rating': 4,\n",
       " 'images': ['https://34travel.me/media/upload/images/MAP/Belarus/mosar_01.jpg',\n",
       "  'https://34travel.me/media/upload/images/MAP/Belarus/mosar_02.jpg'],\n",
       " 'type': 'place'}"
      ]
     },
     "execution_count": 2,
     "metadata": {},
     "output_type": "execute_result"
    }
   ],
   "source": [
    "places = db.all()\n",
    "places[1]"
   ]
  },
  {
   "cell_type": "code",
   "execution_count": 3,
   "metadata": {},
   "outputs": [
    {
     "data": {
      "text/plain": [
       "{'name': 'Минск',\n",
       " 'description': '',\n",
       " 'coords': [53.8966, 27.5504],\n",
       " 'type': 'place',\n",
       " 'images': ['https://34travel.me/media/upload/images/MAP/Belarus/minsk_05.jpg',\n",
       "  'https://34travel.me/media/upload/images/MAP/Belarus/minsk_03.jpg'],\n",
       " 'urls': [{'href': 'https://34travel.me/gotobelarus/post/mensk',\n",
       "   'text': 'Минск'},\n",
       "  {'href': 'https://34travel.me/gotobelarus/post/marshrut-po-evreyskomu-minsku',\n",
       "   'text': 'История, воплощенная в архитектуре. Маршрут по еврейскому Минску'},\n",
       "  {'href': 'https://34travel.me/gotobelarus/post/34-dostoprimechatelnosti-minska',\n",
       "   'text': '34 достопримечательности Минска'},\n",
       "  {'href': 'https://34travel.me/gotobelarus/post/minsk-audiogid',\n",
       "   'text': '«Минск для новичков»: аудиогид'}],\n",
       " 'rating': 4}"
      ]
     },
     "execution_count": 3,
     "metadata": {},
     "output_type": "execute_result"
    }
   ],
   "source": [
    "preprocessed_places = []\n",
    "for place in places:\n",
    "    preprocessed_places.append({\n",
    "        \"name\": place[\"name\"].strip(),\n",
    "        \"description\": place[\"description\"].strip(),\n",
    "        \"coords\": place[\"coords\"],\n",
    "        \"type\": place[\"type\"],\n",
    "        \"images\": place[\"images\"],\n",
    "        \"urls\": place[\"links\"],\n",
    "        \"rating\": place[\"rating\"]\n",
    "    })\n",
    "preprocessed_places[0]"
   ]
  },
  {
   "cell_type": "code",
   "execution_count": 4,
   "metadata": {},
   "outputs": [],
   "source": [
    "import json\n",
    "\n",
    "with open(\"gotobelarus_processed.json\", \"w\", encoding=\"utf-8\") as f:\n",
    "    json.dump(preprocessed_places, f, ensure_ascii=False, indent=2)"
   ]
  }
 ],
 "metadata": {
  "kernelspec": {
   "display_name": ".venv",
   "language": "python",
   "name": "python3"
  },
  "language_info": {
   "codemirror_mode": {
    "name": "ipython",
    "version": 3
   },
   "file_extension": ".py",
   "mimetype": "text/x-python",
   "name": "python",
   "nbconvert_exporter": "python",
   "pygments_lexer": "ipython3",
   "version": "3.11.9"
  }
 },
 "nbformat": 4,
 "nbformat_minor": 2
}
