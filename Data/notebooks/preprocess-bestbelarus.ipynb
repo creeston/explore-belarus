{
 "cells": [
  {
   "cell_type": "code",
   "execution_count": 11,
   "metadata": {},
   "outputs": [
    {
     "data": {
      "text/plain": [
       "48"
      ]
     },
     "execution_count": 11,
     "metadata": {},
     "output_type": "execute_result"
    }
   ],
   "source": [
    "from tinydb import TinyDB\n",
    "db = TinyDB(\"../../bestbelarus.json\")\n",
    "len(db.all())"
   ]
  },
  {
   "cell_type": "code",
   "execution_count": 12,
   "metadata": {},
   "outputs": [
    {
     "data": {
      "text/plain": [
       "{'name': 'Березинский биосферный заповедник',\n",
       " 'url': 'https://bestbelarus.by/objects/all/berezinskiy-biosfernyy-zapovednik/',\n",
       " 'image': 'https://bestbelarus.by/upload/resize_cache/iblock/e4f/358_228_2/e4f163feb15963a216e762d316bbb470.jpg',\n",
       " 'place': {'name': 'Березинский биосферный заповедник',\n",
       "  'location': 'Витебская обл., Лепельский р-н, д. Домжерицы, ул. Центральная, 3',\n",
       "  'coords': [54.74439, 28.317604],\n",
       "  'sights': [{'name': 'Территория',\n",
       "    'images': ['https://bestbelarus.by/upload/resize_cache/iblock/f23/0_510_2a18e1f56f4eaac9195ab4f8530310a0f/f2325dc2e98b558a78612e7e146b74ab.jpg',\n",
       "     'https://bestbelarus.by/upload/resize_cache/iblock/f23/0_510_2a18e1f56f4eaac9195ab4f8530310a0f/f2325dc2e98b558a78612e7e146b74ab.jpg',\n",
       "     'https://bestbelarus.by/upload/resize_cache/iblock/ab7/0_510_2a18e1f56f4eaac9195ab4f8530310a0f/ab75fb7db77c0d452ea8ee1b32529347.jpg',\n",
       "     'https://bestbelarus.by/upload/resize_cache/iblock/ab7/0_510_2a18e1f56f4eaac9195ab4f8530310a0f/ab75fb7db77c0d452ea8ee1b32529347.jpg',\n",
       "     'https://bestbelarus.by/upload/resize_cache/iblock/5f4/0_510_2a18e1f56f4eaac9195ab4f8530310a0f/5f4c7e029f808332a2487b245d73c373.jpg',\n",
       "     'https://bestbelarus.by/upload/resize_cache/iblock/5f4/0_510_2a18e1f56f4eaac9195ab4f8530310a0f/5f4c7e029f808332a2487b245d73c373.jpg',\n",
       "     'https://bestbelarus.by/upload/resize_cache/iblock/55b/0_510_2a18e1f56f4eaac9195ab4f8530310a0f/55bea478b7cc36600931a6817e5687c6.jpg',\n",
       "     'https://bestbelarus.by/upload/resize_cache/iblock/55b/0_510_2a18e1f56f4eaac9195ab4f8530310a0f/55bea478b7cc36600931a6817e5687c6.jpg']},\n",
       "   {'name': 'Обитатели заповедника',\n",
       "    'images': ['https://bestbelarus.by/upload/resize_cache/iblock/2a4/0_510_2a18e1f56f4eaac9195ab4f8530310a0f/2a404963d7ef094dc2895ec6a4b34a23.jpg',\n",
       "     'https://bestbelarus.by/upload/resize_cache/iblock/2a4/0_510_2a18e1f56f4eaac9195ab4f8530310a0f/2a404963d7ef094dc2895ec6a4b34a23.jpg',\n",
       "     'https://bestbelarus.by/upload/resize_cache/iblock/e32/0_510_2a18e1f56f4eaac9195ab4f8530310a0f/e32caa036d97d680365c1929135eef76.jpg',\n",
       "     'https://bestbelarus.by/upload/resize_cache/iblock/e32/0_510_2a18e1f56f4eaac9195ab4f8530310a0f/e32caa036d97d680365c1929135eef76.jpg',\n",
       "     'https://bestbelarus.by/upload/resize_cache/iblock/ae0/0_510_2a18e1f56f4eaac9195ab4f8530310a0f/ae011b125c27a79431dd01a780e656af.jpg',\n",
       "     'https://bestbelarus.by/upload/resize_cache/iblock/ae0/0_510_2a18e1f56f4eaac9195ab4f8530310a0f/ae011b125c27a79431dd01a780e656af.jpg',\n",
       "     'https://bestbelarus.by/upload/resize_cache/iblock/72c/0_510_2a18e1f56f4eaac9195ab4f8530310a0f/72ca6f35421f7f13b78bf0532f235615.jpg',\n",
       "     'https://bestbelarus.by/upload/resize_cache/iblock/72c/0_510_2a18e1f56f4eaac9195ab4f8530310a0f/72ca6f35421f7f13b78bf0532f235615.jpg',\n",
       "     'https://bestbelarus.by/upload/resize_cache/iblock/b9e/0_510_2a18e1f56f4eaac9195ab4f8530310a0f/b9e71129ed40b1656bfd1d01b1369ab0.jpg',\n",
       "     'https://bestbelarus.by/upload/resize_cache/iblock/b9e/0_510_2a18e1f56f4eaac9195ab4f8530310a0f/b9e71129ed40b1656bfd1d01b1369ab0.jpg',\n",
       "     'https://bestbelarus.by/upload/resize_cache/iblock/f86/0_510_2a18e1f56f4eaac9195ab4f8530310a0f/f8662433dc72db5285950f67034c29ab.jpg',\n",
       "     'https://bestbelarus.by/upload/resize_cache/iblock/f86/0_510_2a18e1f56f4eaac9195ab4f8530310a0f/f8662433dc72db5285950f67034c29ab.jpg']},\n",
       "   {'name': 'Музей природы',\n",
       "    'images': ['https://bestbelarus.by/upload/resize_cache/iblock/513/0_510_2a18e1f56f4eaac9195ab4f8530310a0f/51367d9e7a2a92db8e65968f1c805026.jpg',\n",
       "     'https://bestbelarus.by/upload/resize_cache/iblock/513/0_510_2a18e1f56f4eaac9195ab4f8530310a0f/51367d9e7a2a92db8e65968f1c805026.jpg']},\n",
       "   {'name': 'Музей мёда',\n",
       "    'images': ['https://bestbelarus.by/upload/resize_cache/iblock/490/0_510_2a18e1f56f4eaac9195ab4f8530310a0f/49064cfeb196c08984897b8480b1d3fd.jpg',\n",
       "     'https://bestbelarus.by/upload/resize_cache/iblock/490/0_510_2a18e1f56f4eaac9195ab4f8530310a0f/49064cfeb196c08984897b8480b1d3fd.jpg']}],\n",
       "  'url': 'https://bestbelarus.by/objects/all/berezinskiy-biosfernyy-zapovednik/'},\n",
       " 'title': 'Березинский биосферный заповедник'}"
      ]
     },
     "execution_count": 12,
     "metadata": {},
     "output_type": "execute_result"
    }
   ],
   "source": [
    "places = db.all()\n",
    "places[1]"
   ]
  },
  {
   "cell_type": "code",
   "execution_count": 13,
   "metadata": {},
   "outputs": [],
   "source": [
    "unique_towns = set()\n",
    "town_prefixes = [\n",
    "    'аг.',\n",
    "    'г. п.',\n",
    "    'г.п.',\n",
    "    'г.',\n",
    "    'д.',\n",
    "    'а/г'\n",
    "]\n",
    "\n",
    "for place in places:\n",
    "    location = [l.strip() for l in place[\"place\"][\"location\"].split(\",\")]\n",
    "    for i, location_part in enumerate(location):\n",
    "        for town_prefix in town_prefixes:\n",
    "            if location_part.startswith(town_prefix):\n",
    "                town = location_part.replace(town_prefix, \"\").strip()\n",
    "                unique_towns.add(town)\n",
    "                break"
   ]
  },
  {
   "cell_type": "code",
   "execution_count": 14,
   "metadata": {},
   "outputs": [
    {
     "data": {
      "text/plain": [
       "{'name': 'Территория',\n",
       " 'images': ['https://bestbelarus.by/upload/resize_cache/iblock/b21/0_510_2a18e1f56f4eaac9195ab4f8530310a0f/b21cf3ae179fa09bee35abc7c1bf569a.jpg',\n",
       "  'https://bestbelarus.by/upload/resize_cache/iblock/b21/0_510_2a18e1f56f4eaac9195ab4f8530310a0f/b21cf3ae179fa09bee35abc7c1bf569a.jpg',\n",
       "  'https://bestbelarus.by/upload/resize_cache/iblock/b5d/0_510_2a18e1f56f4eaac9195ab4f8530310a0f/b5d5c50e6d35f6a310db52f4c3dfeb69.jpg',\n",
       "  'https://bestbelarus.by/upload/resize_cache/iblock/b5d/0_510_2a18e1f56f4eaac9195ab4f8530310a0f/b5d5c50e6d35f6a310db52f4c3dfeb69.jpg',\n",
       "  'https://bestbelarus.by/upload/resize_cache/iblock/e8b/0_510_2a18e1f56f4eaac9195ab4f8530310a0f/e8b858a67b3cfb09012a7f4d60777b14.jpg',\n",
       "  'https://bestbelarus.by/upload/resize_cache/iblock/e8b/0_510_2a18e1f56f4eaac9195ab4f8530310a0f/e8b858a67b3cfb09012a7f4d60777b14.jpg',\n",
       "  'https://bestbelarus.by/upload/resize_cache/iblock/cef/0_510_2a18e1f56f4eaac9195ab4f8530310a0f/cefc5ee156756aed4b469ef11d436740.jpg',\n",
       "  'https://bestbelarus.by/upload/resize_cache/iblock/cef/0_510_2a18e1f56f4eaac9195ab4f8530310a0f/cefc5ee156756aed4b469ef11d436740.jpg',\n",
       "  'https://bestbelarus.by/upload/resize_cache/iblock/e84/0_510_2a18e1f56f4eaac9195ab4f8530310a0f/e84bd0037d8dab899fb4dc0fba35a37d.jpg',\n",
       "  'https://bestbelarus.by/upload/resize_cache/iblock/e84/0_510_2a18e1f56f4eaac9195ab4f8530310a0f/e84bd0037d8dab899fb4dc0fba35a37d.jpg']}"
      ]
     },
     "execution_count": 14,
     "metadata": {},
     "output_type": "execute_result"
    }
   ],
   "source": [
    "preprocessed_places = []\n",
    "\n",
    "for place in places:\n",
    "    town, town_index, town_type = None, None, None\n",
    "    address = None\n",
    "    location = [l.strip() for l in place[\"place\"][\"location\"].split(\",\")]\n",
    "    for i, location_part in enumerate(location):\n",
    "        for town_prefix in town_prefixes:\n",
    "            if location_part.startswith(town_prefix):\n",
    "                town = location_part.replace(town_prefix, \"\").strip()\n",
    "                town_index = i\n",
    "                town_type = town_prefix\n",
    "                break\n",
    "        if town is not None:\n",
    "            break\n",
    "        if location_part in unique_towns:\n",
    "            town = location_part\n",
    "            town_index = i\n",
    "            town_type = None\n",
    "            break\n",
    "\n",
    "    if place['name'] != town:\n",
    "        place['town'] = town\n",
    "        if town_index is not None:\n",
    "            address = location[town_index+1:]\n",
    "    location = location[:town_index]\n",
    "    preprocessed_places.append({\n",
    "        \"name\": place[\"name\"].strip(),\n",
    "        \"coords\": place[\"place\"][\"coords\"],\n",
    "        \"location\": location,\n",
    "        \"address\": address,\n",
    "        \"town\": town,\n",
    "        \"town_type\": town_type,\n",
    "        \"image\": place[\"image\"],\n",
    "        \"url\": {\n",
    "            'href': place[\"url\"],\n",
    "            'text': place['title'].strip()\n",
    "        },\n",
    "        \"sights\": place[\"place\"][\"sights\"]\n",
    "    })\n",
    "preprocessed_places[0][\"sights\"][0]"
   ]
  },
  {
   "cell_type": "code",
   "execution_count": 15,
   "metadata": {},
   "outputs": [],
   "source": [
    "import json\n",
    "\n",
    "with open(\"bestbelarus_processed.json\", \"w\", encoding=\"utf-8\") as f:\n",
    "    json.dump(preprocessed_places, f, ensure_ascii=False, indent=2)"
   ]
  }
 ],
 "metadata": {
  "kernelspec": {
   "display_name": ".venv",
   "language": "python",
   "name": "python3"
  },
  "language_info": {
   "codemirror_mode": {
    "name": "ipython",
    "version": 3
   },
   "file_extension": ".py",
   "mimetype": "text/x-python",
   "name": "python",
   "nbconvert_exporter": "python",
   "pygments_lexer": "ipython3",
   "version": "3.11.9"
  }
 },
 "nbformat": 4,
 "nbformat_minor": 2
}
